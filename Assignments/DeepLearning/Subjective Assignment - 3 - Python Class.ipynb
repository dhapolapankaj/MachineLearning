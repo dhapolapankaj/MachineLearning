{
 "cells": [
  {
   "cell_type": "markdown",
   "metadata": {},
   "source": [
    "# Assignment"
   ]
  },
  {
   "cell_type": "markdown",
   "metadata": {},
   "source": [
    "Q1. Write the Python class to convert an integer to a roman numeral?"
   ]
  },
  {
   "cell_type": "code",
   "execution_count": 10,
   "metadata": {},
   "outputs": [
    {
     "name": "stdout",
     "output_type": "stream",
     "text": [
      "IX\n",
      "CC\n"
     ]
    }
   ],
   "source": [
    "class Integer_to_Roman:\n",
    "    def do(self, number):\n",
    "        value = [1000, 900, 500, 400, 100, 90, 50, 40, 10, 9, 5, 4, 1 ]\n",
    "        symbol = [ \"M\", \"CM\", \"D\", \"CD\", \"C\", \"XC\", \"L\", \"XL\", \"X\", \"IX\", \"V\", \"IV\", \"I\" ]\n",
    "        roman_number = ''\n",
    "        i = 0\n",
    "        while  number > 0:\n",
    "            for _ in range(number // value[i]):\n",
    "                roman_number += str(symbol[i])\n",
    "                number -= value[i]\n",
    "            i += 1\n",
    "        return roman_number\n",
    "\n",
    "\n",
    "print(Integer_to_Roman().do(9))\n",
    "print(Integer_to_Roman().do(200))"
   ]
  },
  {
   "cell_type": "markdown",
   "metadata": {},
   "source": [
    "Q2 Write the Python class to convert a Roman numeral to an integer?\n"
   ]
  },
  {
   "cell_type": "code",
   "execution_count": 16,
   "metadata": {},
   "outputs": [
    {
     "name": "stdout",
     "output_type": "stream",
     "text": [
      "580\n",
      "450\n"
     ]
    }
   ],
   "source": [
    "class Roman_to_Int:\n",
    "    def do(self, input_roman_string):\n",
    "        dict_symbol_number = {'I': 1, 'V': 5, 'X': 10, 'L': 50, 'C': 100, 'D': 500, 'M': 1000}\n",
    "        int_value = 0\n",
    "        for i in range(len(input_roman_string)):\n",
    "            if i > 0 and dict_symbol_number[input_roman_string[i]] > dict_symbol_number[input_roman_string[i - 1]]:\n",
    "                int_value += dict_symbol_number[input_roman_string[i]] - 2 * dict_symbol_number[input_roman_string[i - 1]]\n",
    "            else:\n",
    "                int_value += dict_symbol_number[input_roman_string[i]]\n",
    "        return int_value\n",
    "\n",
    "print(Roman_to_Int().do('DLXXX'))\n",
    "print(Roman_to_Int().do('LD'))\n",
    "\n"
   ]
  },
  {
   "cell_type": "markdown",
   "metadata": {},
   "source": [
    "Q3. Write the Python class to find the validity of the string of the\n",
    "parentheses, '(', ')', '{', '}', '[' and '] and the brackets must be closed\n",
    "in the correct order, example - \"()\" and \"()[]{}\" are valid but \"[)\",\n",
    "\"({[)]\" and \"{{{\" are invalid.\n"
   ]
  },
  {
   "cell_type": "code",
   "execution_count": 5,
   "metadata": {},
   "outputs": [
    {
     "name": "stdout",
     "output_type": "stream",
     "text": [
      "string1 --> ([{(2}]) --> Invalid Bracket string\n",
      "string2 --> ({[{(())}]}) --> Valid Bracket string\n"
     ]
    }
   ],
   "source": [
    "def is_bracket_validated(input_string):\n",
    "    dict_brackets = {\"(\":\")\", \"[\":\"]\", \"{\":\"}\"}\n",
    "\n",
    "\n",
    "    current_bracket = \"\"\n",
    "    stack = []\n",
    "\n",
    "    for s in input_string:\n",
    "\n",
    "        if s in dict_brackets.keys() or dict_brackets.items():\n",
    "            if s in dict_brackets.keys():\n",
    "                stack.append(s)\n",
    "\n",
    "            if s in dict_brackets.values():\n",
    "                if s != dict_brackets[stack[len(stack) - 1]]:\n",
    "                    return \"Invalid Bracket string\"\n",
    "                else:\n",
    "                    stack.pop(len(stack) - 1)\n",
    "\n",
    "    return \"Valid Bracket string\"\n",
    "\n",
    "\n",
    "string1 = \"([{(2}])\"\n",
    "print(f\"string1 --> {string1} --> {is_bracket_validated(string1)}\")\n",
    "\n",
    "string2 = \"({[{(())}]})\"\n",
    "print(f\"string2 --> {string2} --> {is_bracket_validated(string2)}\")\n",
    "\n"
   ]
  },
  {
   "cell_type": "markdown",
   "metadata": {},
   "source": [
    "Q4. Write the Python class to get all possible unique subsets from a set\n",
    "of distinct integers?\n",
    "\n",
    "    Input - [4, 5, 6]\n",
    "    Output - [[], [6], [5], [5, 6], [4], [4, 6], [4, 5], [4, 5, 6]]"
   ]
  },
  {
   "cell_type": "code",
   "execution_count": 32,
   "metadata": {},
   "outputs": [
    {
     "name": "stdout",
     "output_type": "stream",
     "text": [
      "[[], [4], [5], [6], [4, 5], [4, 6], [5, 6], [4, 5, 6]]\n"
     ]
    }
   ],
   "source": [
    "import itertools\n",
    "\n",
    "Input = [4, 5, 6]\n",
    "output_list = []\n",
    "list_of_list = []\n",
    "\n",
    "for i in range(len(Input)+1):       \n",
    "    list_of_list.append(list(itertools.combinations(Input,i)))\n",
    "    \n",
    "\n",
    "for eachlist in list_of_list:\n",
    "    #print(eachlist)\n",
    "    for eachtuple in eachlist:\n",
    "        if len(eachtuple) == 0:\n",
    "            output_list.append([])\n",
    "        else:\n",
    "            temp_list = []\n",
    "            for i in range(len(eachtuple)):\n",
    "                temp_list.append(eachtuple[i])\n",
    "            output_list.append(temp_list)\n",
    "        \n",
    "print(output_list)"
   ]
  },
  {
   "cell_type": "markdown",
   "metadata": {},
   "source": [
    "Q5. Write the Python class to find a pair of elements (indices of the two\n",
    "numbers) from a given array whose sum equals the specific target\n",
    "number?\n",
    "\n",
    "    Input: numbers- [10,20,10,40,50,60,70], target=50\n",
    "    Output- 3, 4"
   ]
  },
  {
   "cell_type": "code",
   "execution_count": null,
   "metadata": {},
   "outputs": [],
   "source": [
    "\n",
    "def sum_pair(self, nums, target):\n",
    "    lookup = {}\n",
    "    for i, num in enumerate(nums):\n",
    "        if target - num in lookup:\n",
    "            return (lookup[target - num], i )\n",
    "        lookup[num] = i\n",
    "print(f\"The pair of number amounting to sum is --> {Q5().sum_pair([10,20,10,40,50,60,70],50)}\")\n"
   ]
  },
  {
   "cell_type": "markdown",
   "metadata": {},
   "source": [
    "Q6. Write the Python class to find the three elements that sum to zero\n",
    "from the set of n real numbers?\n",
    "\n",
    "    Input array- [-25, -10, -7, -3, 2, 4, 8, 10]\n",
    "    Output - [[-10, 2, 8], [-7, -3, 10]]\n"
   ]
  },
  {
   "cell_type": "code",
   "execution_count": 37,
   "metadata": {},
   "outputs": [
    {
     "name": "stdout",
     "output_type": "stream",
     "text": [
      "[(-10, 2, 8), (-7, -3, 10)]\n"
     ]
    }
   ],
   "source": [
    "import itertools\n",
    "\n",
    "list_of_3_combination = list(itertools.combinations([-25, -10, -7, -3, 2, 4, 8, 10],3))\n",
    "\n",
    "#print(list_of_3_combination)\n",
    "\n",
    "#for i in list_of_3_combination:\n",
    "#    print(i)\n",
    "Output=[]\n",
    "for i in range(len(list_of_3_combination)):\n",
    "    #print(f\"value of i is {i} and respective element at ith index is {list_of_3_combination[i]}\")\n",
    "    #print(f\"sum of all 3 elements {sum(list_of_3_combination[i])}\")\n",
    "    if (sum(list_of_3_combination[i])==0):\n",
    "        Output.append(list_of_3_combination[i])\n",
    "print(Output)"
   ]
  },
  {
   "cell_type": "markdown",
   "metadata": {},
   "source": [
    "Q7. Write the Python class to implement pow(x, n)?"
   ]
  },
  {
   "cell_type": "code",
   "execution_count": 3,
   "metadata": {},
   "outputs": [
    {
     "name": "stdout",
     "output_type": "stream",
     "text": [
      "25\n"
     ]
    }
   ],
   "source": [
    "\n",
    "class Q7:\n",
    "    def pow(x,n):\n",
    "        return x**n\n",
    "\n",
    "print(Q7.pow(5,2))\n",
    "        \n"
   ]
  },
  {
   "cell_type": "markdown",
   "metadata": {},
   "source": [
    "Q8. Write the Python class which has two methods get_String and\n",
    "print_String. get_String accept the string from the user and \n",
    "print_String print the string in upper case."
   ]
  },
  {
   "cell_type": "code",
   "execution_count": 13,
   "metadata": {},
   "outputs": [
    {
     "name": "stdout",
     "output_type": "stream",
     "text": [
      "Enter your data\n"
     ]
    },
    {
     "name": "stdin",
     "output_type": "stream",
     "text": [
      " Hello Hridhayaank\n"
     ]
    },
    {
     "name": "stdout",
     "output_type": "stream",
     "text": [
      "HELLO HRIDHAYAANK\n"
     ]
    }
   ],
   "source": [
    "class Q8:\n",
    "    input_string = \"\"\n",
    "    \n",
    "    def get_string(s):\n",
    "        print(\"Enter your data\")\n",
    "        s.input_string = input()\n",
    "        \n",
    "    \n",
    "    def print_string(s):\n",
    "        print(s.input_string.upper())\n",
    "        \n",
    "    \n",
    "q8 = Q8()\n",
    "q8.get_string()\n",
    "q8.print_string()\n",
    "    "
   ]
  },
  {
   "cell_type": "markdown",
   "metadata": {},
   "source": [
    "Q9. Write the Python class named Rectangle constructed by a length\n",
    "and width and the method which will compute the area of the\n",
    "rectangle?"
   ]
  },
  {
   "cell_type": "code",
   "execution_count": 16,
   "metadata": {},
   "outputs": [
    {
     "name": "stdout",
     "output_type": "stream",
     "text": [
      "Displaying area of rectangle\n",
      "30\n"
     ]
    }
   ],
   "source": [
    "class Rectangle:\n",
    "    def __init__(s,length,width):\n",
    "        s.l = length\n",
    "        s.w = width\n",
    "        \n",
    "    def print_area(s):\n",
    "        print( str(s.l * s.w))\n",
    "\n",
    "print(\"Displaying area of rectangle\")\n",
    "Rectangle(6,5).print_area()"
   ]
  },
  {
   "cell_type": "markdown",
   "metadata": {},
   "source": [
    "Q10. Write the Python class named Circle constructed by the radius\n",
    "and two methods which will compute the area and perimeter of\n",
    "the circle?"
   ]
  },
  {
   "cell_type": "code",
   "execution_count": 18,
   "metadata": {},
   "outputs": [
    {
     "name": "stdout",
     "output_type": "stream",
     "text": [
      "Displaying area of Circle\n",
      "113.04\n",
      "Displaying perimeter\n",
      "37.68\n"
     ]
    }
   ],
   "source": [
    "class Circle:\n",
    "    def __init__(s,radius):\n",
    "        s.r = radius\n",
    "        \n",
    "        \n",
    "    def print_area(s):\n",
    "        print(str( 3.14 * s.r**2) )\n",
    "\n",
    "    def print_perimeter(s):\n",
    "        print(str( 2 * 3.14 * s.r) )\n",
    "\n",
    "        \n",
    "c = Circle(6)\n",
    "print(\"Displaying area of Circle\")\n",
    "c.print_area()\n",
    "print(\"Displaying perimeter\")\n",
    "c.print_perimeter()\n"
   ]
  },
  {
   "cell_type": "markdown",
   "metadata": {},
   "source": [
    "Q11. Write the Python program to get the class name of an instance in\n",
    "Python?"
   ]
  },
  {
   "cell_type": "code",
   "execution_count": 22,
   "metadata": {},
   "outputs": [
    {
     "name": "stdout",
     "output_type": "stream",
     "text": [
      "Current Class name is\n",
      "__main__\n"
     ]
    }
   ],
   "source": [
    "print(\"Current Class name is\")\n",
    "print(__name__)"
   ]
  },
  {
   "cell_type": "markdown",
   "metadata": {},
   "source": [
    "Q12. Write the Python program to count the number of students of\n",
    "individual class?\n",
    "\n",
    "    Sample dataclasses = (\n",
    "    ('V', 1),\n",
    "    ('VI', 1),\n",
    "    ('V', 2),\n",
    "    ('VI', 2),\n",
    "    ('VI', 3),\n",
    "    ('VII', 1),\n",
    "    )\n",
    "    Expected OutputCounter({'VI': 3, 'V': 2, 'VII': 1})"
   ]
  },
  {
   "cell_type": "code",
   "execution_count": 23,
   "metadata": {},
   "outputs": [
    {
     "name": "stdout",
     "output_type": "stream",
     "text": [
      "Counter({'VI': 3, 'V': 2, 'VII': 1})\n"
     ]
    }
   ],
   "source": [
    "from collections import Counter\n",
    "\n",
    "\n",
    "dataclasses = (\n",
    "('V', 1),\n",
    "('VI', 1),\n",
    "('V', 2),\n",
    "('VI', 2),\n",
    "('VI', 3),\n",
    "('VII', 1),\n",
    ")\n",
    "\n",
    "\n",
    "print (Counter( class_name for class_name, no_strudents in dataclasses))"
   ]
  },
  {
   "cell_type": "markdown",
   "metadata": {},
   "source": [
    "## Great Job!"
   ]
  }
 ],
 "metadata": {
  "kernelspec": {
   "display_name": "Python 3",
   "language": "python",
   "name": "python3"
  },
  "language_info": {
   "codemirror_mode": {
    "name": "ipython",
    "version": 3
   },
   "file_extension": ".py",
   "mimetype": "text/x-python",
   "name": "python",
   "nbconvert_exporter": "python",
   "pygments_lexer": "ipython3",
   "version": "3.6.10"
  }
 },
 "nbformat": 4,
 "nbformat_minor": 4
}
