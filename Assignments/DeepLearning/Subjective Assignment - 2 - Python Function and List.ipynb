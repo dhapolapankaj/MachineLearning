{
 "cells": [
  {
   "cell_type": "markdown",
   "metadata": {},
   "source": [
    "# Assignments"
   ]
  },
  {
   "cell_type": "markdown",
   "metadata": {},
   "source": [
    "Q1. Write the Python function to get a string made of 4 copies of the last\n",
    "two characters of the specified string (length must be at least 2).\n",
    "\n",
    "    Sample function and result :\n",
    "    insert-end ('Python') -> abababab\n",
    "    insert-end('Exercises') -> jkjkjkjk"
   ]
  },
  {
   "cell_type": "code",
   "execution_count": 1,
   "metadata": {},
   "outputs": [
    {
     "name": "stdout",
     "output_type": "stream",
     "text": [
      "Function to print 4 copies of last two character of input_string --> onononon\n"
     ]
    }
   ],
   "source": [
    "def insert_end(input_string):\n",
    "    \n",
    "    if len(input_string) <= 2 :\n",
    "        raise Exception( f\"InvalidInput: input string should have more than 2 characters\")\n",
    "    last_two_char=input_string[-2]+input_string[-1]\n",
    "    return (last_two_char)*4\n",
    "\n",
    "input_string = \"Python\"\n",
    "print(f\"Function to print 4 copies of last two character of input_string --> {insert_end(input_string)}\")\n",
    "\n"
   ]
  },
  {
   "cell_type": "markdown",
   "metadata": {},
   "source": [
    "Q2. Write the python function to get a string made of its first three\n",
    "characters of a specified string. If the length of the string is less than 3\n",
    "then return the original string.\n",
    "    \n",
    "    Sample function and result :\n",
    "    first-three('ipy') -> ipy\n",
    "    first-three('python') -> pyt"
   ]
  },
  {
   "cell_type": "code",
   "execution_count": 2,
   "metadata": {},
   "outputs": [
    {
     "name": "stdout",
     "output_type": "stream",
     "text": [
      "Function to print First three characters of input_string --> Pyt\n"
     ]
    }
   ],
   "source": [
    "def insert_end(input_string):\n",
    "    \n",
    "    if len(input_string) <= 3 :\n",
    "        print(input_string)\n",
    "    First_three_char=input_string[0]+input_string[1]+input_string[2]\n",
    "    return (First_three_char)\n",
    "\n",
    "input_string = \"Python\"\n",
    "print(f\"Function to print First three characters of input_string --> {insert_end(input_string)}\")"
   ]
  },
  {
   "cell_type": "markdown",
   "metadata": {},
   "source": [
    "Q3. Write the Python program to find smallest window that contains all\n",
    "characters of the given string?\n",
    "\n",
    "    Original Strings:\n",
    "    asdaewsqgtwwsa\n",
    "    Smallest window that contains all characters of the said string:\n",
    "    Daewsqgt"
   ]
  },
  {
   "cell_type": "code",
   "execution_count": 3,
   "metadata": {},
   "outputs": [
    {
     "name": "stdout",
     "output_type": "stream",
     "text": [
      "The smallest window containing all characters is --> daewsqgt\n"
     ]
    }
   ],
   "source": [
    "def get_smallest_window_among_string(string_input):\n",
    "    \n",
    "    unique_chars = set(string_input)\n",
    "        \n",
    "    i = 0\n",
    "    j = len(string_input)\n",
    "    \n",
    "    window = string_input[i:j]\n",
    "    \n",
    "    #print(window)\n",
    "    prev_window = window\n",
    "    left_flag = True\n",
    "\n",
    "    while left_flag:\n",
    "        #first decrease window from left\n",
    "        window = string_input[i:j]\n",
    "        #print(\"window value --> \" + window)\n",
    "        \n",
    "        for s in unique_chars:\n",
    "            if not s in window:                \n",
    "                left_flag = False\n",
    "                i = i - 1\n",
    "                break\n",
    "            \n",
    "        if left_flag == True:\n",
    "            prev_window = window\n",
    "            i = i + 1\n",
    "    \n",
    "    right_flag = True\n",
    "    while right_flag:\n",
    "\n",
    "        #Then decrease window from right\n",
    "        window = string_input[i:j]\n",
    "        #print(\"window value --> \" + window)\n",
    "        for s in unique_chars:\n",
    "            if not s in window:                \n",
    "                right_flag = False\n",
    "                j = j + 1\n",
    "                break\n",
    "        \n",
    "        if right_flag == True:\n",
    "            prev_window = window\n",
    "            j = j - 1\n",
    "            \n",
    "            \n",
    "            \n",
    "    return prev_window\n",
    "    \n",
    "    \n",
    "original_string = 'asdaewsqgtwwsa'\n",
    "\n",
    "smallest_window = ''\n",
    "\n",
    "print(f\"The smallest window containing all characters is --> {get_smallest_window_among_string(original_string)}\")\n",
    "\n",
    "\n",
    "\n",
    "\n"
   ]
  },
  {
   "cell_type": "markdown",
   "metadata": {},
   "source": [
    "Q4. Write the Python program to count number of substrings from a\n",
    "given string of lowercase alphabets with exactly k distinct (given)\n",
    "characters?\n",
    "\n",
    "    Input a string (lowercase alphabets): wolf\n",
    "    Input k: 4\n",
    "    Number of substrings with exactly 4 distinct characters: 1"
   ]
  },
  {
   "cell_type": "code",
   "execution_count": 4,
   "metadata": {},
   "outputs": [
    {
     "name": "stdout",
     "output_type": "stream",
     "text": [
      "['wolf']\n",
      "The distinct 4 characters in wolf is 1\n"
     ]
    }
   ],
   "source": [
    "\n",
    "def get_distinct_chars(input_string,k):\n",
    "    if input_string is None :\n",
    "        raise exception(\"InvalidInput: input_string can not be empty\")\n",
    "    if k is None :\n",
    "        raise exception(\"InvalidInput: k can not be empty\")\n",
    "        \n",
    "    \n",
    "    input_string = input_string.lower()\n",
    "    print([input_string[i:i+k] for i in range(len(input_string)-k+1)])\n",
    "    return len([input_string[i:i+k] for i in range(len(input_string)-k+1)])\n",
    "\n",
    "\n",
    "string1 = \"wolf\"\n",
    "k = 4\n",
    "\n",
    "print(f\"The distinct {k} characters in {string1} is {get_distinct_chars(string1,k)}\")"
   ]
  },
  {
   "cell_type": "markdown",
   "metadata": {},
   "source": [
    "Q5. Write the Python program to count number of non-empty\n",
    "substrings of the given string?\n",
    "\n",
    "    Input a string: w3resource\n",
    "    Number of substrings:\n",
    "    55"
   ]
  },
  {
   "cell_type": "code",
   "execution_count": 5,
   "metadata": {},
   "outputs": [
    {
     "name": "stdout",
     "output_type": "stream",
     "text": [
      "Number of substrings --> 55\n"
     ]
    }
   ],
   "source": [
    "str1 = 'w3resource'\n",
    "print(f\"Number of substrings --> {int(len(str1) * (len(str1) + 1) / 2)}\") \n"
   ]
  },
  {
   "cell_type": "markdown",
   "metadata": {},
   "source": [
    "Q6. Write the Python program to count the number of strings where the\n",
    "string length is 2 or more, and first and last character are same\n",
    "from a given list of strings.\n",
    "\n",
    "    Sample List : ['abc', 'xyz', 'wxw', '1331']\n",
    "    Expected Result: 2"
   ]
  },
  {
   "cell_type": "code",
   "execution_count": 6,
   "metadata": {},
   "outputs": [
    {
     "name": "stdout",
     "output_type": "stream",
     "text": [
      "Number of strings where the string length is 2 or more, and first and last character are same from a given list of strings : 2\n"
     ]
    }
   ],
   "source": [
    "Sample_List = ['abc','xyz','wxw','1331']\n",
    "i=0\n",
    "count=0\n",
    "for i in range(len(Sample_List)) :\n",
    "    if (Sample_List[i][0]==Sample_List[i][-1]):\n",
    "        count=count+1\n",
    "print(f\"Number of strings where the string length is 2 or more, and first and last character are same from a given list of strings : {count}\")\n",
    "        \n",
    "        \n",
    "    "
   ]
  },
  {
   "cell_type": "markdown",
   "metadata": {},
   "source": [
    "Q7. Write the Python program to get a list, sorted in increasing order by\n",
    "the last element in each tuple from the given list of non-empty\n",
    "tuples?\n",
    "\n",
    "    Sample List - [ (2, 5), (1, 2), (4, 4), (2, 3), (2, 1) ]\n",
    "    Expected Result - [ (2, 1), (1, 2), (2, 3), (4, 4), (2, 5) ]"
   ]
  },
  {
   "cell_type": "code",
   "execution_count": 7,
   "metadata": {},
   "outputs": [
    {
     "name": "stdout",
     "output_type": "stream",
     "text": [
      "The required sorted list is --> [(2, 1), (1, 2), (2, 3), (4, 4), (2, 5)]\n"
     ]
    }
   ],
   "source": [
    "Sample_List = [ (2, 5), (1, 2), (4, 4), (2, 3), (2, 1) ]\n",
    "def last(eachtuple):\n",
    "    return eachtuple[-1]\n",
    "#last( (2, 5), (1, 2), (4, 4), (2, 3), (2, 1) )\n",
    "\n",
    "lst=sorted(Sample_List, key=last)\n",
    "print(f\"The required sorted list is --> {lst}\")\n"
   ]
  },
  {
   "cell_type": "markdown",
   "metadata": {},
   "source": [
    "### "
   ]
  },
  {
   "cell_type": "markdown",
   "metadata": {},
   "source": [
    "Q8. Write the Python program to remove duplicates from a list?"
   ]
  },
  {
   "cell_type": "code",
   "execution_count": 8,
   "metadata": {},
   "outputs": [
    {
     "name": "stdout",
     "output_type": "stream",
     "text": [
      "Input list after removing duplicates --> [40, 10, 80, 50, 20, 60, 30]\n"
     ]
    }
   ],
   "source": [
    "a = [10,20,30,20,10,50,60,40,80,50,40]\n",
    "\n",
    "print(f\"Input list after removing duplicates --> {list(set(a))}\")\n",
    "\n"
   ]
  },
  {
   "cell_type": "markdown",
   "metadata": {},
   "source": [
    "Q9. Write the Python program to find the list of words that are longer\n",
    "than n from a given list of words?"
   ]
  },
  {
   "cell_type": "code",
   "execution_count": 9,
   "metadata": {},
   "outputs": [
    {
     "name": "stdout",
     "output_type": "stream",
     "text": [
      "List of strings longer than n--> 5 is ['LightGreen', 'White', 'Black', 'Yellow']\n"
     ]
    }
   ],
   "source": [
    "def get_list_of_string_greater_than(n, sample_list):\n",
    "    return [l for l in sample_list if len(l) >= n  ]\n",
    "    \n",
    "\n",
    "\n",
    "sample_list = ['Red', 'LightGreen', 'White', 'Black', 'Pink', 'Yellow']\n",
    "n = 5\n",
    "\n",
    "print(f\"List of strings longer than n--> {n} is {get_list_of_string_greater_than(n, sample_list)}\")\n",
    "\n"
   ]
  },
  {
   "cell_type": "markdown",
   "metadata": {},
   "source": [
    "Q10. Write the Python program to print a specified list after removing the\n",
    "0th, 4th, and 5th elements?\n",
    "    \n",
    "    Sample List - ['Red', 'Green', 'White', 'Black', 'Pink', 'Yellow']\n",
    "    Expected Output - ['Green', 'White', 'Black']"
   ]
  },
  {
   "cell_type": "code",
   "execution_count": 10,
   "metadata": {},
   "outputs": [
    {
     "name": "stdout",
     "output_type": "stream",
     "text": [
      "After removing required elements --> ['Green', 'White', 'Black']\n"
     ]
    }
   ],
   "source": [
    "Sample_List = ['Red', 'Green', 'White', 'Black', 'Pink', 'Yellow']\n",
    "\n",
    "Sample_List.pop(5)\n",
    "Sample_List.pop(4)\n",
    "Sample_List.pop(0)\n",
    "\n",
    "print(f\"After removing required elements --> {Sample_List}\")\n"
   ]
  },
  {
   "cell_type": "markdown",
   "metadata": {},
   "source": [
    "Q11. Write the Python program to generate all permutations of a list in\n",
    "Python?"
   ]
  },
  {
   "cell_type": "code",
   "execution_count": 11,
   "metadata": {},
   "outputs": [
    {
     "name": "stdout",
     "output_type": "stream",
     "text": [
      "[('Red', 'Green', 'Blue', 'White'), ('Red', 'Green', 'White', 'Blue'), ('Red', 'Blue', 'Green', 'White'), ('Red', 'Blue', 'White', 'Green'), ('Red', 'White', 'Green', 'Blue'), ('Red', 'White', 'Blue', 'Green'), ('Green', 'Red', 'Blue', 'White'), ('Green', 'Red', 'White', 'Blue'), ('Green', 'Blue', 'Red', 'White'), ('Green', 'Blue', 'White', 'Red'), ('Green', 'White', 'Red', 'Blue'), ('Green', 'White', 'Blue', 'Red'), ('Blue', 'Red', 'Green', 'White'), ('Blue', 'Red', 'White', 'Green'), ('Blue', 'Green', 'Red', 'White'), ('Blue', 'Green', 'White', 'Red'), ('Blue', 'White', 'Red', 'Green'), ('Blue', 'White', 'Green', 'Red'), ('White', 'Red', 'Green', 'Blue'), ('White', 'Red', 'Blue', 'Green'), ('White', 'Green', 'Red', 'Blue'), ('White', 'Green', 'Blue', 'Red'), ('White', 'Blue', 'Red', 'Green'), ('White', 'Blue', 'Green', 'Red')]\n"
     ]
    }
   ],
   "source": [
    "import itertools\n",
    "\n",
    "Sample_List = ['Red', 'Green', 'Blue', 'White']\n",
    "\n",
    "print(list(itertools.permutations(Sample_List)))"
   ]
  },
  {
   "cell_type": "markdown",
   "metadata": {},
   "source": [
    "Q12. Write the Python program to convert a pair of values into a sorted\n",
    "unique array?\n",
    " \n",
    "    Original List- [ (1, 2), (3, 4), (1, 2), (5, 6), (7, 8), (1, 2), (3, 4), (3, 4), (7, 8), (9, 10) ]\n",
    "    Sorted Unique Data- [ 1, 2, 3, 4, 5, 6, 7, 8, 9, 10 ] \n"
   ]
  },
  {
   "cell_type": "code",
   "execution_count": 12,
   "metadata": {},
   "outputs": [
    {
     "name": "stdout",
     "output_type": "stream",
     "text": [
      "Sorted_Unique_Data -- > [1, 2, 3, 4, 5, 6, 7, 8, 9, 10]\n"
     ]
    }
   ],
   "source": [
    "def flatten_list(list_of_tuple):\n",
    "    lst = []\n",
    "    for lt in list_of_tuple:\n",
    "        for t in lt:\n",
    "            lst.append(t)\n",
    "    return lst\n",
    "\n",
    "\n",
    "\n",
    "Original_List = [ (1, 2), (3, 4), (1, 2), (5, 6), (7, 8), (1, 2), (3, 4), (3, 4), (7, 8), (9, 10) ]\n",
    "unique_list = list(set(flatten_list(Original_List)))\n",
    "\n",
    "Sorted_Unique_Data = sorted(unique_list)\n",
    "\n",
    "\n",
    "print(f\"Sorted_Unique_Data -- > {Sorted_Unique_Data}\")\n"
   ]
  },
  {
   "cell_type": "markdown",
   "metadata": {},
   "source": [
    "## Great job!"
   ]
  }
 ],
 "metadata": {
  "kernelspec": {
   "display_name": "Python 3",
   "language": "python",
   "name": "python3"
  },
  "language_info": {
   "codemirror_mode": {
    "name": "ipython",
    "version": 3
   },
   "file_extension": ".py",
   "mimetype": "text/x-python",
   "name": "python",
   "nbconvert_exporter": "python",
   "pygments_lexer": "ipython3",
   "version": "3.6.10"
  }
 },
 "nbformat": 4,
 "nbformat_minor": 4
}
