{
 "cells": [
  {
   "cell_type": "markdown",
   "metadata": {
    "colab_type": "text",
    "id": "5wnJIAOqBFZ_"
   },
   "source": [
    "## Problem Statement"
   ]
  },
  {
   "cell_type": "markdown",
   "metadata": {
    "colab_type": "text",
    "id": "CJr2Jca6BFaD"
   },
   "source": [
    "Q.1 Write a function to compute 5/0 and use try/except to catch the exceptions."
   ]
  },
  {
   "cell_type": "code",
   "execution_count": null,
   "metadata": {
    "colab": {
     "base_uri": "https://localhost:8080/",
     "height": 34
    },
    "colab_type": "code",
    "executionInfo": {
     "elapsed": 2859,
     "status": "ok",
     "timestamp": 1582478791096,
     "user": {
      "displayName": "Pankaj Dhapola",
      "photoUrl": "https://lh3.googleusercontent.com/a-/AAuE7mBOjoU3CJBHb1A2SANla2vVDHgnBjBRhkVniqTXMQ=s64",
      "userId": "12944844485916865512"
     },
     "user_tz": -330
    },
    "id": "OW2WuoV2BFaE",
    "outputId": "7c7a5d8b-574c-4a14-bdcd-4b3e6c8e5c9b"
   },
   "outputs": [
    {
     "name": "stdout",
     "output_type": "stream",
     "text": [
      "Error Occcurred - \n"
     ]
    }
   ],
   "source": [
    "import traceback\n",
    "\n",
    "def Q1():\n",
    "\n",
    "  try:\n",
    "    5/0\n",
    "  except :\n",
    "    print(\"Error Occcurred - \")\n",
    "    #print(\"Error Occcurred - \" + traceback.format_exc())\n",
    "\n",
    "\n",
    "Q1()\n"
   ]
  },
  {
   "cell_type": "markdown",
   "metadata": {
    "colab_type": "text",
    "id": "IZKW15YWBFaL"
   },
   "source": [
    "Q.2 Implement a Python program to generate all sentences where subject is in [\"Americans\",\n",
    "\"Indians\"] and verb is in [\"Play\", \"watch\"] and the object is in [\"Baseball\",\"cricket\"].\n",
    "\n",
    "    Hint: Subject,Verb and Object should be declared in the program as shown below.\n",
    "    subjects=[\"Americans \",\"Indians\"]\n",
    "    verbs=[\"play\",\"watch\"]\n",
    "    objects=[\"Baseball\",\"Cricket\"]\n",
    "\n",
    "    Output should come as below:\n",
    "    Americans play Baseball.\n",
    "    Americans play Cricket.\n",
    "    Americans watch Baseball.\n",
    "    Americans watch Cricket.\n",
    "    Indians play Baseball.\n",
    "    Indians play Cricket.\n",
    "    Indians watch Baseball.\n",
    "    Indians watch Cricket."
   ]
  },
  {
   "cell_type": "code",
   "execution_count": null,
   "metadata": {
    "colab": {
     "base_uri": "https://localhost:8080/",
     "height": 289
    },
    "colab_type": "code",
    "executionInfo": {
     "elapsed": 1057,
     "status": "ok",
     "timestamp": 1582480406478,
     "user": {
      "displayName": "Pankaj Dhapola",
      "photoUrl": "https://lh3.googleusercontent.com/a-/AAuE7mBOjoU3CJBHb1A2SANla2vVDHgnBjBRhkVniqTXMQ=s64",
      "userId": "12944844485916865512"
     },
     "user_tz": -330
    },
    "id": "Lc_ojHDlBFaM",
    "outputId": "27f33e28-18d3-4cf8-9cc4-5d5bf7d7eec4"
   },
   "outputs": [
    {
     "name": "stdout",
     "output_type": "stream",
     "text": [
      "Americans play Baseball\n",
      "\n",
      "Americans play Cricket\n",
      "\n",
      "Americans watch Baseball\n",
      "\n",
      "Americans watch Cricket\n",
      "\n",
      "Indians play Baseball\n",
      "\n",
      "Indians play Cricket\n",
      "\n",
      "Indians watch Baseball\n",
      "\n",
      "Indians watch Cricket\n",
      "\n"
     ]
    }
   ],
   "source": [
    "subjects=[\"Americans\",\"Indians\"]\n",
    "verbs=[\"play\",\"watch\"]\n",
    "objects=[\"Baseball\",\"Cricket\"]\n",
    "\n",
    "\n",
    "\n",
    "for l in [f\"{i} {j} {k}\"  for i in subjects for j in verbs for k in objects ]:\n",
    "  print(l, end=\"\\n\\n\")"
   ]
  },
  {
   "cell_type": "markdown",
   "metadata": {
    "colab_type": "text",
    "id": "N_Z5DALQBFaQ"
   },
   "source": [
    "Q.3 Write a function so that the columns of the output matrix are powers of the input vector.\n",
    "The order of the powers is determined by the increasing boolean argument. Specifically, when\n",
    "increasing is False, the i-th output column is the input vector raised element-wise to the power\n",
    "of N - i - 1.\n",
    "\n",
    "    HINT: Such a matrix with a geometric progression in each row is named for Alexandre Theophile Vandermonde."
   ]
  },
  {
   "cell_type": "code",
   "execution_count": 22,
   "metadata": {
    "colab": {
     "base_uri": "https://localhost:8080/",
     "height": 109
    },
    "colab_type": "code",
    "executionInfo": {
     "elapsed": 1013,
     "status": "ok",
     "timestamp": 1582653617242,
     "user": {
      "displayName": "Pankaj Dhapola",
      "photoUrl": "https://lh3.googleusercontent.com/a-/AAuE7mBOjoU3CJBHb1A2SANla2vVDHgnBjBRhkVniqTXMQ=s64",
      "userId": "12944844485916865512"
     },
     "user_tz": -330
    },
    "id": "aLx1ITBEL-yx",
    "outputId": "3adea92b-713c-45f3-9b96-1cdda0ae67ef"
   },
   "outputs": [
    {
     "data": {
      "text/plain": [
       "array([[    1,     1,     1,     1,     1,     1,     1,     1],\n",
       "       [    1,     2,     4,     8,    16,    32,    64,   128],\n",
       "       [    1,     3,     9,    27,    81,   243,   729,  2187],\n",
       "       [    1,     4,    16,    64,   256,  1024,  4096, 16384],\n",
       "       [    1,     5,    25,   125,   625,  3125, 15625, 78125]])"
      ]
     },
     "execution_count": 22,
     "metadata": {
      "tags": []
     },
     "output_type": "execute_result"
    }
   ],
   "source": [
    "import numpy as np\n",
    "\n",
    "def get_vandermonde_matrix(arr_one_dimensional, N=None, bool_increasing=False):\n",
    "\n",
    "  arr_one_dimensional = np.array(arr_one_dimensional)\n",
    "  if arr_one_dimensional.ndim != 1 :\n",
    "    raise Exception( f\"InValidArgumentException, argument arr_one_dimensional should be 1-D \")\n",
    "\n",
    "  if N is None or N <=0 : #lets default the \n",
    "    N = len(arr_one_dimensional)\n",
    "\n",
    "  final_mat =list()\n",
    "  for k in range(len(arr_one_dimensional)):\n",
    "    mat = [arr_one_dimensional[k]**(N-i-1) for i in range(N) ]\n",
    "    if bool_increasing == True:\n",
    "      mat = mat[::-1]\n",
    "    #print(f\"mat --> {mat}\")\n",
    "    final_mat.append( mat)\n",
    "    #print(f\"final_mat --> {final_mat}\")\n",
    "\n",
    "  return np.array(final_mat)\n",
    "\n",
    "get_vandermonde_matrix([1,2,3,4,5], 8, bool_increasing=True)"
   ]
  },
  {
   "cell_type": "code",
   "execution_count": null,
   "metadata": {
    "colab": {},
    "colab_type": "code",
    "id": "U617TZiiPPOh"
   },
   "outputs": [],
   "source": []
  }
 ],
 "metadata": {
  "colab": {
   "name": "Assignment 3 - Python function.ipynb",
   "provenance": [
    {
     "file_id": "1MDtZybJXlGNzUEExtQaPP3y2O9Ao0XWo",
     "timestamp": 1582309876330
    }
   ]
  },
  "kernelspec": {
   "display_name": "Python 3",
   "language": "python",
   "name": "python3"
  },
  "language_info": {
   "codemirror_mode": {
    "name": "ipython",
    "version": 3
   },
   "file_extension": ".py",
   "mimetype": "text/x-python",
   "name": "python",
   "nbconvert_exporter": "python",
   "pygments_lexer": "ipython3",
   "version": "3.7.6"
  }
 },
 "nbformat": 4,
 "nbformat_minor": 4
}
