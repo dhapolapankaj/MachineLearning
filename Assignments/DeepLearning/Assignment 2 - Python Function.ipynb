{
 "cells": [
  {
   "cell_type": "raw",
   "metadata": {},
   "source": [
    "## Problem Statement"
   ]
  },
  {
   "cell_type": "markdown",
   "metadata": {},
   "source": [
    "Q.1 Write a Python Program to implement your own myreduce() function which works exactly like\n",
    "Python's built-in function reduce()\n"
   ]
  },
  {
   "cell_type": "code",
   "execution_count": 1,
   "metadata": {},
   "outputs": [
    {
     "name": "stdout",
     "output_type": "stream",
     "text": [
      "return_value --> 2 i --> 3\n",
      "return_value --> 8 i --> 4\n",
      "return_value --> 4096 i --> 5\n",
      "1152921504606846976\n"
     ]
    }
   ],
   "source": [
    "\n",
    "my_list = [ 2, 3, 4,5]\n",
    "\n",
    "def my_function(x,y):\n",
    "    #print(f\"x ==> {x} and y ==> {y} \")\n",
    "    return x**y\n",
    "\n",
    "def my_reduce(functn, lst):\n",
    "    if type(functn).__name__ != \"function\" or type(lst).__name__ != \"list\":\n",
    "        raise Exception(\"Invalid Input. First argument should be a defined function and second argument should be a list\")\n",
    "    \n",
    "    first_value = lst.pop(0)\n",
    "    \n",
    "    return_value = first_value #assign first value\n",
    "    for i in lst:\n",
    "        print(f'return_value --> {return_value} i --> {i}')\n",
    "        return_value = functn(return_value,i)\n",
    "            \n",
    "    return return_value\n",
    "\n",
    "print (my_reduce(my_function, my_list))\n",
    "\n",
    "#Below code is for Validation\n",
    "#import functools as ft\n",
    "#ft.reduce(my_function, [2, 3, 4,5])\n"
   ]
  },
  {
   "cell_type": "markdown",
   "metadata": {},
   "source": [
    "Q.2 Write a Python program to implement your own myfilter() function which works exactly like\n",
    "Python's built-in function filter()"
   ]
  },
  {
   "cell_type": "code",
   "execution_count": 15,
   "metadata": {},
   "outputs": [
    {
     "name": "stdout",
     "output_type": "stream",
     "text": [
      "[2, 4]\n"
     ]
    }
   ],
   "source": [
    "\n",
    "my_list = [ 2, 3, 4,5]\n",
    "\n",
    "def my_function(x):\n",
    "    #print(f\"x ==> {x} \")\n",
    "    if x % 2 == 0 :\n",
    "        return True\n",
    "    else :\n",
    "        return False\n",
    "    \n",
    "\n",
    "\n",
    "def my_filter(functn,lst):\n",
    "    \n",
    "    if type(functn).__name__ != \"function\" or type(lst).__name__ != \"list\":\n",
    "        raise Exception(\"Invalid Input. First argument should be a defined function and second argument should be a list\")\n",
    "        \n",
    "    return_list = []\n",
    "    \n",
    "    for i in my_list:\n",
    "        if my_function(i) == True:\n",
    "            return_list.append(i)\n",
    "            \n",
    "    return return_list\n",
    "\n",
    "\n",
    "print(my_filter(my_function,my_list))\n",
    " \n",
    "#Below code is just for Validation purpose    \n",
    "#print(list(filter(my_function,[1,2,3,4,5,6])))\n",
    "        "
   ]
  },
  {
   "cell_type": "markdown",
   "metadata": {},
   "source": [
    "Q.3 Implement List comprehensions to produce the following lists.\n",
    "   Write List comprehensions to produce the following Lists\n",
    "   \n",
    "    ['A', 'C', 'A', 'D', 'G', 'I', ’L’, ‘ D’]\n",
    "   \n",
    "    ['x', 'xx', 'xxx', 'xxxx', 'y', 'yy', 'yyy', 'yyyy', 'z', 'zz', 'zzz', 'zzzz']\n",
    "\n",
    "    ['x', 'y', 'z', 'xx', 'yy', 'zz', 'xx', 'yy', 'zz', 'xxxx', 'yyyy', 'zzzz']\n",
    "    \n",
    "    [[2], [3], [4], [3], [4], [5], [4], [5], [6]]\n",
    "\n",
    "    [[2, 3, 4, 5], [3, 4, 5, 6], [4, 5, 6, 7], [5, 6, 7, 8]]\n",
    "\n",
    "    [(1, 1), (2, 1), (3, 1), (1, 2), (2, 2), (3, 2), (1, 3), (2, 3), (3, 3)]"
   ]
  },
  {
   "cell_type": "code",
   "execution_count": 1,
   "metadata": {},
   "outputs": [
    {
     "name": "stdout",
     "output_type": "stream",
     "text": [
      "['A', 'C', 'A', 'D', 'G', 'I', 'L', 'D']\n",
      "\n",
      "['x', 'xx', 'xxx', 'xxxx', 'y', 'yy', 'yyy', 'yyyy', 'z', 'zz', 'zzz', 'zzzz']\n",
      "\n",
      "['x', 'y', 'z', 'xx', 'yy', 'zz', 'xxx', 'yyy', 'zzz', 'xxxx', 'yyyy', 'zzzz']\n",
      "\n",
      "[[2], [3], [4], [3], [4], [5], [4], [5], [6]]\n",
      "\n",
      "[[2, 3, 4, 5], [3, 4, 5, 6], [5, 6, 7, 8]]\n",
      "\n",
      "[(1, 1), (2, 1), (3, 1), (1, 2), (2, 2), (3, 2), (1, 3), (2, 3), (3, 3)]\n",
      "\n"
     ]
    }
   ],
   "source": [
    "print([x for x in 'ACADGILD'], end='\\n\\n' )\n",
    "\n",
    "print([i * j for i in ['x', 'y', 'z'] for j in range(1,5)], end='\\n\\n' )\n",
    "\n",
    "print([i * j for i in range(1,5) for j in ['x', 'y', 'z'] ], end='\\n\\n' )\n",
    "\n",
    "print([ [i] for i in range(2,5) ] +[ [j] for j in range(3,6) ] + [ [k] for k in range(4,7) ] , end='\\n\\n' )\n",
    "\n",
    "\n",
    "print([[ i for i in range(2,6) ] , [ j for j in range(3,7) ] , [ k for k in range(5,9) ] ], end='\\n\\n' )\n",
    "\n",
    "print([ (j,i) for i in range(1,4) for j in range(1,4)], end='\\n\\n' )"
   ]
  },
  {
   "cell_type": "markdown",
   "metadata": {},
   "source": [
    "Q.4 Implement a function longestWord() that takes a list of words and returns the longest one."
   ]
  },
  {
   "cell_type": "code",
   "execution_count": 3,
   "metadata": {},
   "outputs": [
    {
     "name": "stdout",
     "output_type": "stream",
     "text": [
      "Enter number of words \n"
     ]
    },
    {
     "name": "stdin",
     "output_type": "stream",
     "text": [
      " 8\n"
     ]
    },
    {
     "name": "stdout",
     "output_type": "stream",
     "text": [
      "Enter your word 1\n"
     ]
    },
    {
     "name": "stdin",
     "output_type": "stream",
     "text": [
      " Hi\n"
     ]
    },
    {
     "name": "stdout",
     "output_type": "stream",
     "text": [
      "Enter your word 2\n"
     ]
    },
    {
     "name": "stdin",
     "output_type": "stream",
     "text": [
      " My\n"
     ]
    },
    {
     "name": "stdout",
     "output_type": "stream",
     "text": [
      "Enter your word 3\n"
     ]
    },
    {
     "name": "stdin",
     "output_type": "stream",
     "text": [
      " Name\n"
     ]
    },
    {
     "name": "stdout",
     "output_type": "stream",
     "text": [
      "Enter your word 4\n"
     ]
    },
    {
     "name": "stdin",
     "output_type": "stream",
     "text": [
      " Is\n"
     ]
    },
    {
     "name": "stdout",
     "output_type": "stream",
     "text": [
      "Enter your word 5\n"
     ]
    },
    {
     "name": "stdin",
     "output_type": "stream",
     "text": [
      " Hridhayaank\n"
     ]
    },
    {
     "name": "stdout",
     "output_type": "stream",
     "text": [
      "Enter your word 6\n"
     ]
    },
    {
     "name": "stdin",
     "output_type": "stream",
     "text": [
      " Dhapola\n"
     ]
    },
    {
     "name": "stdout",
     "output_type": "stream",
     "text": [
      "Enter your word 7\n"
     ]
    },
    {
     "name": "stdin",
     "output_type": "stream",
     "text": [
      " and\n"
     ]
    },
    {
     "name": "stdout",
     "output_type": "stream",
     "text": [
      "Enter your word 8\n"
     ]
    },
    {
     "name": "stdin",
     "output_type": "stream",
     "text": [
      " you?\n"
     ]
    },
    {
     "name": "stdout",
     "output_type": "stream",
     "text": [
      "The list of words entered are - ['Hi', 'My', 'Name', 'Is', 'Hridhayaank', 'Dhapola', 'and', 'you?']\n",
      "The longest word among Inputs is - Hridhayaank\n"
     ]
    }
   ],
   "source": [
    "import functools as ft\n",
    "def longestWord(lst):\n",
    "    if type(lst).__name__ != \"list\":\n",
    "        print(\"Invalid Input, try list like ['Hello','how','are','you','my','friend'] \")\n",
    "        raise Exception(\"Invalid Input. First argument should be a defined function and second argument should be a list\")\n",
    "\n",
    "    lst_coupled_len = [(i,len(i)) for i in lst]\n",
    "    lst_coupled_len.sort(key=lambda each_words_tuple: each_words_tuple[1])\n",
    "    return lst_coupled_len[-1][0]\n",
    "\n",
    "\n",
    "def getInputs():\n",
    "    print(\"Enter number of words \")\n",
    "    \n",
    "    while True:\n",
    "        str_nbr = input()\n",
    "        if str_nbr.isdigit() :\n",
    "            break\n",
    "        print(\"Invalid Entry, Enter number of words \")\n",
    "    \n",
    "    \n",
    "    \n",
    "    str_input_words =\"\"\n",
    "    for i in range(int(str_nbr)):\n",
    "        print(\"Enter your word \" + str(i+1))\n",
    "        str_input_words = str_input_words +\" \" + input()\n",
    "    \n",
    "    return str_input_words\n",
    "    \n",
    "    \n",
    "input_lst = getInputs().split()\n",
    "\n",
    "print(f\"The list of words entered are - {input_lst}\")\n",
    "\n",
    "print(\"The longest word among Inputs is - \" + longestWord(input_lst) )5\n"
   ]
  },
  {
   "cell_type": "markdown",
   "metadata": {},
   "source": [
    "Q.5 Write a Python Program(with class concepts) to find the area of the triangle using the below\n",
    "formula.\n",
    "\n",
    "area = (s*(s-a)*(s-b)*(s-c)) ** 0.5\n",
    "\n",
    "Function to take the length of the sides of triangle from user should be defined in the parent\n",
    "class and function to calculate the area should be defined in subclass."
   ]
  },
  {
   "cell_type": "code",
   "execution_count": 1,
   "metadata": {},
   "outputs": [
    {
     "name": "stdout",
     "output_type": "stream",
     "text": [
      "Enter numeric value for side0 - \n"
     ]
    },
    {
     "name": "stdin",
     "output_type": "stream",
     "text": [
      " 6\n"
     ]
    },
    {
     "name": "stdout",
     "output_type": "stream",
     "text": [
      "Enter numeric value for side1 - \n"
     ]
    },
    {
     "name": "stdin",
     "output_type": "stream",
     "text": [
      " 3\n"
     ]
    },
    {
     "name": "stdout",
     "output_type": "stream",
     "text": [
      "Enter numeric value for side2 - \n"
     ]
    },
    {
     "name": "stdin",
     "output_type": "stream",
     "text": [
      " 8\n"
     ]
    },
    {
     "name": "stdout",
     "output_type": "stream",
     "text": [
      "Values initialised for triangle -- > \n",
      "s=0, \n",
      "a=6.0, \n",
      "b=3.0, \n",
      "c=8.0\n",
      "Value of s = 8.5\n",
      "Area of triangle1 is 29.21875\n"
     ]
    }
   ],
   "source": [
    "class shape:\n",
    "    nbr_of_side = 0\n",
    "    side_values = {}\n",
    "    def __init__(self, nbr_of_side):\n",
    "        self.nbr_of_side = nbr_of_side\n",
    "        \n",
    "    def prompt_length_of_sides_as_input(self):\n",
    "        for i in range(int(self.nbr_of_side)):\n",
    "            print(\"Enter numeric value for side\" + str(i) + \" - \")\n",
    "            while True:\n",
    "                prompt_length = input()\n",
    "                if prompt_length.replace('.',\"\",1).isdigit():\n",
    "                    self.side_values[\"side\"+ str(i)] = prompt_length\n",
    "                    break\n",
    "                print(\"Invalid input, Enter numeric value for side\" + str(i) + \" - \")\n",
    "                \n",
    "        return self.side_values\n",
    "                \n",
    "            \n",
    "            \n",
    "class triangle(shape):\n",
    "    s = 0\n",
    "    a,b,c = 0,0,0\n",
    "    area_of_triangle = 0\n",
    "    sides_info = \"\"\n",
    "    def __init__(self,nbr_of_side):\n",
    "        super().__init__(nbr_of_side)\n",
    "        self.sides_info = super().prompt_length_of_sides_as_input()\n",
    "        \n",
    "        self.a = float(self.sides_info['side0'])\n",
    "        self.b = float(self.sides_info['side1'])\n",
    "        self.c = float(self.sides_info['side2'])\n",
    "        print(f\"Values initialised for triangle -- > \\ns={self.s}, \\na={self.a}, \\nb={self.b}, \\nc={self.c}\")\n",
    "    \n",
    "    def print_area_of_triangle(self):\n",
    "        self.s = (self.a + self.b + self.c)  / 2\n",
    "        print(f\"Value of s = {self.s}\")\n",
    "        \n",
    "        #Heron's formulae\n",
    "        self.area_of_triangle = self.s *( ( self.s - self.a) * ( self.s - self.b) * ( self.s - self.c) ) * 0.5\n",
    "        return self.area_of_triangle\n",
    "    \n",
    "    \n",
    "triangle1 = triangle(3)\n",
    "\n",
    "print(\"Area of triangle1 is \" + str(triangle1.print_area_of_triangle()))"
   ]
  },
  {
   "cell_type": "markdown",
   "metadata": {},
   "source": [
    "Q.6 Write a function filter_long_words() that takes a list of words and an integer n and returns the list\n",
    "of words that are longer than n."
   ]
  },
  {
   "cell_type": "code",
   "execution_count": 2,
   "metadata": {},
   "outputs": [
    {
     "name": "stdout",
     "output_type": "stream",
     "text": [
      "Enter number of words \n"
     ]
    },
    {
     "name": "stdin",
     "output_type": "stream",
     "text": [
      " 5\n"
     ]
    },
    {
     "name": "stdout",
     "output_type": "stream",
     "text": [
      "Enter your word 1\n"
     ]
    },
    {
     "name": "stdin",
     "output_type": "stream",
     "text": [
      " Sun\n"
     ]
    },
    {
     "name": "stdout",
     "output_type": "stream",
     "text": [
      "Enter your word 2\n"
     ]
    },
    {
     "name": "stdin",
     "output_type": "stream",
     "text": [
      " moon\n"
     ]
    },
    {
     "name": "stdout",
     "output_type": "stream",
     "text": [
      "Enter your word 3\n"
     ]
    },
    {
     "name": "stdin",
     "output_type": "stream",
     "text": [
      " earth\n"
     ]
    },
    {
     "name": "stdout",
     "output_type": "stream",
     "text": [
      "Enter your word 4\n"
     ]
    },
    {
     "name": "stdin",
     "output_type": "stream",
     "text": [
      " jupiter\n"
     ]
    },
    {
     "name": "stdout",
     "output_type": "stream",
     "text": [
      "Enter your word 5\n"
     ]
    },
    {
     "name": "stdin",
     "output_type": "stream",
     "text": [
      " saturn\n"
     ]
    },
    {
     "name": "stdout",
     "output_type": "stream",
     "text": [
      "Enter an integer to filter list of words greater than itself\n"
     ]
    },
    {
     "name": "stdin",
     "output_type": "stream",
     "text": [
      " 4\n"
     ]
    },
    {
     "name": "stdout",
     "output_type": "stream",
     "text": [
      "The list of words entered are - ['Sun', 'moon', 'earth', 'jupiter', 'saturn'] and filter length is 4\n",
      "The list of words longer than 4 is ['earth', 'jupiter', 'saturn']\n"
     ]
    }
   ],
   "source": [
    "def filter_long_words(lst, n):\n",
    "    if type(lst).__name__ != \"list\":\n",
    "        print(\"Invalid Input, try list like ['Hello','how','are','you','my','friend'] \")\n",
    "        raise Exception(\"Invalid Input. First argument should be a defined function and second argument should be a list\")\n",
    "\n",
    "    filtered_lst = list(filter(lambda x: len(x) > n , lst))\n",
    "    return filtered_lst\n",
    "\n",
    "\n",
    "def getInputs():\n",
    "    print(\"Enter number of words \")\n",
    "    \n",
    "    while True:\n",
    "        str_nbr = input()\n",
    "        if str_nbr.isdigit() :\n",
    "            break\n",
    "        print(\"Invalid Entry, Enter number of words \")\n",
    "    \n",
    "    \n",
    "    \n",
    "    str_input_words =\"\"\n",
    "    for i in range(int(str_nbr)):\n",
    "        print(\"Enter your word \" + str(i+1))\n",
    "        str_input_words = str_input_words +\" \" + input()\n",
    "    \n",
    "    print(\"Enter an integer to filter list of words greater than itself\")\n",
    "    while True:\n",
    "        n = input()\n",
    "        if n.isdigit() :\n",
    "            break\n",
    "        print(\"Invalid Entry, Enter an integer to filter list of words greater than itself\")\n",
    "\n",
    "\n",
    "    return (str_input_words,n)\n",
    "    \n",
    "\n",
    "(input_lst, n) = getInputs()\n",
    "input_lst = input_lst.strip().split(\" \")\n",
    "n = int(n)\n",
    "print(f\"The list of words entered are - {input_lst} and filter length is {n}\")\n",
    "final_list = filter_long_words(input_lst,n)\n",
    "print(f\"The list of words longer than {n} is {final_list}\" )"
   ]
  },
  {
   "cell_type": "markdown",
   "metadata": {},
   "source": [
    "Q.7 Write a Python program using function concept that maps list of words into a list of integers\n",
    "representing the lengths of the corresponding words.\n",
    "    \n",
    "    Hint: If a list [ ab,cde,erty] is passed on to the python function output should come as [2,3,4]\n",
    "    Here 2,3 and 4 are the lengths of the words in the list."
   ]
  },
  {
   "cell_type": "code",
   "execution_count": 3,
   "metadata": {},
   "outputs": [
    {
     "name": "stdout",
     "output_type": "stream",
     "text": [
      "Enter number of words \n"
     ]
    },
    {
     "name": "stdin",
     "output_type": "stream",
     "text": [
      " 5\n"
     ]
    },
    {
     "name": "stdout",
     "output_type": "stream",
     "text": [
      "Enter your word 1\n"
     ]
    },
    {
     "name": "stdin",
     "output_type": "stream",
     "text": [
      " Krypton\n"
     ]
    },
    {
     "name": "stdout",
     "output_type": "stream",
     "text": [
      "Enter your word 2\n"
     ]
    },
    {
     "name": "stdin",
     "output_type": "stream",
     "text": [
      " Phobos\n"
     ]
    },
    {
     "name": "stdout",
     "output_type": "stream",
     "text": [
      "Enter your word 3\n"
     ]
    },
    {
     "name": "stdin",
     "output_type": "stream",
     "text": [
      " Mangal\n"
     ]
    },
    {
     "name": "stdout",
     "output_type": "stream",
     "text": [
      "Enter your word 4\n"
     ]
    },
    {
     "name": "stdin",
     "output_type": "stream",
     "text": [
      " Kepler-452b\n"
     ]
    },
    {
     "name": "stdout",
     "output_type": "stream",
     "text": [
      "Enter your word 5\n"
     ]
    },
    {
     "name": "stdin",
     "output_type": "stream",
     "text": [
      " Brahaspati\n"
     ]
    },
    {
     "name": "stdout",
     "output_type": "stream",
     "text": [
      "The list of words entered is - ['Krypton', 'Phobos', 'Mangal', 'Kepler-452b', 'Brahaspati']\n",
      "The list of length of each input words is [7, 6, 6, 11, 10]\n"
     ]
    }
   ],
   "source": [
    "def get_length_of_each_word(lst):\n",
    "    if type(lst).__name__ != \"list\":\n",
    "        print(\"Invalid Input, try list like ['Hello','how','are','you','my','friend'] \")\n",
    "        raise Exception(\"Invalid Input. First argument should be a defined function and second argument should be a list\")\n",
    "\n",
    "    lst_equi_len = [len(i) for i in lst]\n",
    "    \n",
    "    return lst_equi_len\n",
    "\n",
    "\n",
    "def getInputs():\n",
    "    print(\"Enter number of words \")\n",
    "    \n",
    "    while True:\n",
    "        str_nbr = input()\n",
    "        if str_nbr.isdigit() :\n",
    "            break\n",
    "        print(\"Invalid Entry, Enter number of words \")\n",
    "    \n",
    "    \n",
    "    \n",
    "    str_input_words =\"\"\n",
    "    for i in range(int(str_nbr)):\n",
    "        print(\"Enter your word \" + str(i+1))\n",
    "        str_input_words = str_input_words +\" \" + input()\n",
    "    \n",
    "    return str_input_words\n",
    "    \n",
    "    \n",
    "input_lst = getInputs().split()\n",
    "\n",
    "print(f\"The list of words entered is - {input_lst}\")\n",
    "\n",
    "print(f\"The list of length of each input words is {get_length_of_each_word(input_lst)}\" )"
   ]
  },
  {
   "cell_type": "markdown",
   "metadata": {},
   "source": [
    "Q.8 Write a Python function which takes a character (i.e. a string of length 1) and returns True if it is\n",
    "a vowel, False otherwise."
   ]
  },
  {
   "cell_type": "code",
   "execution_count": 4,
   "metadata": {},
   "outputs": [
    {
     "name": "stdout",
     "output_type": "stream",
     "text": [
      "Enter a Character \n"
     ]
    },
    {
     "name": "stdin",
     "output_type": "stream",
     "text": [
      " asdf\n"
     ]
    },
    {
     "name": "stdout",
     "output_type": "stream",
     "text": [
      "Input has more than one Character, COnsidering only first character and ignoring rest of them!\n",
      "Input Character is 'a'\n",
      "True\n"
     ]
    }
   ],
   "source": [
    "print(\"Enter a Character \")\n",
    "ch_input = input()\n",
    "if len(ch_input) > 1 :\n",
    "  print(\"Input has more than one Character, COnsidering only first character and ignoring rest of them!\")\n",
    "  ch = ch_input[0].lower()\n",
    "  print(\"Input Character is '\" + ch_input[0] + \"'\")\n",
    "\n",
    "if ch =='a' or ch=='e' or ch=='i' or ch=='o' or ch=='u' :\n",
    "  print(True)\n",
    "else:\n",
    "  print(False)"
   ]
  },
  {
   "cell_type": "markdown",
   "metadata": {},
   "source": [
    "## Great job!"
   ]
  }
 ],
 "metadata": {
  "kernelspec": {
   "display_name": "Python 3",
   "language": "python",
   "name": "python3"
  },
  "language_info": {
   "codemirror_mode": {
    "name": "ipython",
    "version": 3
   },
   "file_extension": ".py",
   "mimetype": "text/x-python",
   "name": "python",
   "nbconvert_exporter": "python",
   "pygments_lexer": "ipython3",
   "version": "3.7.6"
  }
 },
 "nbformat": 4,
 "nbformat_minor": 4
}
