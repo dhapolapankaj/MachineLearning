{
 "cells": [
  {
   "cell_type": "markdown",
   "metadata": {},
   "source": [
    "# Assignment 4 Questions"
   ]
  },
  {
   "cell_type": "markdown",
   "metadata": {},
   "source": [
    "## Problem Statement"
   ]
  },
  {
   "cell_type": "markdown",
   "metadata": {},
   "source": [
    "Q.1 Given a sequence of n values x1, x2, ..., xn and a window size k>0, the k-th moving average of\n",
    "the given sequence is defined as follows:\n",
    "\n",
    "The moving average sequence has n-k+1 elements as shown below.\n",
    "The moving averages with k=4 of a ten-value sequence (n=10) is shown below\n",
    "\n",
    "    i 1 2 3 4 5 6 7 8 9 10\n",
    "    ===== == == == == == == == == == ==\n",
    "    Input 10 20 30 40 50 60 70 80 90 100\n",
    "    y1 25 = (10+20+30+40)/4\n",
    "    y2 35 = (20+30+40+50)/4\n",
    "    y3 45 = (30+40+50+60)/4\n",
    "    y4 55 = (40+50+60+70)/4\n",
    "    y5 65 = (50+60+70+80)/4\n",
    "    y6 75 = (60+70+80+90)/4\n",
    "    y7 85 = (70+80+90+100)/4\n",
    "\n",
    "Thus, the moving average sequence has n-k+1=10-4+1=7 values.\n",
    "\n",
    "Write a function to find moving average in an array over a window:\n",
    "\n",
    "Test it over [3, 5, 7, 2, 8, 10, 11, 65, 72, 81, 99, 100, 150] and window of 3."
   ]
  },
  {
   "cell_type": "code",
   "execution_count": 9,
   "metadata": {},
   "outputs": [
    {
     "name": "stdout",
     "output_type": "stream",
     "text": [
      "[5.0, 4.666666666666667, 5.666666666666667, 6.666666666666667, 9.666666666666666, 28.666666666666668, 49.333333333333336, 72.66666666666667, 84.0, 93.33333333333333, 116.33333333333333]\n"
     ]
    }
   ],
   "source": [
    "def get_moving_average_in_an_array(arr_sequence, int_window):\n",
    "\n",
    "    if type(arr_sequence).__name__ != 'list' or type(int_window).__name__ != 'int' :\n",
    "        raise Exception(\"InValidArguments: arr_sequence should be a list and int_window should be a positive int\")\n",
    "        \n",
    "    if not int(int_window) > 0:\n",
    "        raise Exception(\"InValidArguments: int_window should be a positive int\")\n",
    "    \n",
    "    n = len(arr_sequence)\n",
    "    no_of_average_sequence = n - int_window +1 \n",
    "    moving_average_sequence=[]\n",
    "    \n",
    "    for i in range(no_of_average_sequence):\n",
    "        window_addition =0\n",
    "        avg = 0\n",
    "        for j in range(int_window):\n",
    "            window_addition = window_addition + arr_sequence[i+j]\n",
    "            \n",
    "        avg = window_addition / int_window\n",
    "        moving_average_sequence.append(avg)\n",
    "        \n",
    "    return moving_average_sequence\n",
    "        \n",
    "        \n",
    "    \n",
    "input_list =  [3, 5, 7, 2, 8, 10, 11, 65, 72, 81, 99, 100, 150]\n",
    "input_window = 3\n",
    "\n",
    "print(get_moving_average_in_an_array(input_list, input_window))"
   ]
  },
  {
   "cell_type": "markdown",
   "metadata": {},
   "source": [
    "Q.2 How-to-count-distance-to-the-previous-zero\n",
    "For each value, count the difference back to the previous zero (or the start of the Series,\n",
    "whichever is closer)\n",
    "create a new column 'Y'\n",
    "Consider a DataFrame df where there is an integer column 'X'\n",
    "    \n",
    "    import pandas as pd\n",
    "    df = pd.DataFrame({'X': [7, 2, 0, 3, 4, 2, 5, 0, 3, 4]})"
   ]
  },
  {
   "cell_type": "code",
   "execution_count": 9,
   "metadata": {},
   "outputs": [
    {
     "name": "stdout",
     "output_type": "stream",
     "text": [
      "   X  Y\n",
      "0  7  1\n",
      "1  2  2\n",
      "2  0  0\n",
      "3  3  1\n",
      "4  4  2\n",
      "5  2  3\n",
      "6  5  4\n",
      "7  0  0\n",
      "8  3  1\n",
      "9  4  2\n"
     ]
    }
   ],
   "source": [
    "import pandas as pd\n",
    "df = pd.DataFrame({'X': [7, 2, 0, 3, 4, 2, 5, 0, 3, 4]})\n",
    "\n",
    "dist = 0\n",
    "lst=[]\n",
    "\n",
    "for i in df.X:\n",
    "    if( i == 0):        \n",
    "        dist = 0\n",
    "    else:\n",
    "        dist+=1\n",
    "    lst.append(dist)\n",
    "\n",
    "\n",
    "df[\"Y\"] = lst\n",
    "\n",
    "print(df)"
   ]
  },
  {
   "cell_type": "markdown",
   "metadata": {},
   "source": [
    "Q.3 Create a DatetimeIndex that contains each business day of 2015 and use it to index a Series of\n",
    "\n",
    "random numbers."
   ]
  },
  {
   "cell_type": "code",
   "execution_count": 32,
   "metadata": {},
   "outputs": [
    {
     "name": "stdout",
     "output_type": "stream",
     "text": [
      "    business_day_of_2015  random_number\n",
      "0             2015-01-01      -0.249211\n",
      "1             2015-01-02      -0.937215\n",
      "2             2015-01-05       0.069015\n",
      "3             2015-01-06      -1.685528\n",
      "4             2015-01-07      -0.107770\n",
      "..                   ...            ...\n",
      "256           2015-12-25       0.550161\n",
      "257           2015-12-28       0.098759\n",
      "258           2015-12-29      -0.932388\n",
      "259           2015-12-30      -1.118191\n",
      "260           2015-12-31      -1.074521\n",
      "\n",
      "[261 rows x 2 columns]\n"
     ]
    }
   ],
   "source": [
    "import pandas as pd\n",
    "import numpy as np\n",
    "\n",
    "business_day_of_2015 = pd.date_range(start='01-01-2015',end='31-12-2015',freq='B')\n",
    "\n",
    "random_number = np.random.randn(len(business_day_of_2015))\n",
    "\n",
    "dict = {'business_day_of_2015':business_day_of_2015,\n",
    "       'random_number':random_number}\n",
    "\n",
    "df = pd.DataFrame(data=dict)\n",
    "\n",
    "\n",
    "\n",
    "print(df)\n"
   ]
  },
  {
   "cell_type": "code",
   "execution_count": null,
   "metadata": {},
   "outputs": [],
   "source": []
  }
 ],
 "metadata": {
  "kernelspec": {
   "display_name": "Python 3",
   "language": "python",
   "name": "python3"
  },
  "language_info": {
   "codemirror_mode": {
    "name": "ipython",
    "version": 3
   },
   "file_extension": ".py",
   "mimetype": "text/x-python",
   "name": "python",
   "nbconvert_exporter": "python",
   "pygments_lexer": "ipython3",
   "version": "3.7.6"
  }
 },
 "nbformat": 4,
 "nbformat_minor": 4
}
