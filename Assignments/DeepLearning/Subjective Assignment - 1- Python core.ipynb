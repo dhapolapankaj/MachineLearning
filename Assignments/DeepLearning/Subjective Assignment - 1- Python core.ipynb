{
 "cells": [
  {
   "cell_type": "markdown",
   "metadata": {},
   "source": [
    "Q1. Write a Python program to get the string from the given string where\n",
    "all the occurrence of its first char has been changed to '$,' except first\n",
    "char itself?\n",
    "\n",
    "    Sample String: 'prospect'\n",
    "    Expected Result : 'pros$ect'\n"
   ]
  },
  {
   "cell_type": "code",
   "execution_count": 2,
   "metadata": {},
   "outputs": [
    {
     "name": "stdout",
     "output_type": "stream",
     "text": [
      "pros$ect\n",
      "jkldpros$ec$$t\n"
     ]
    }
   ],
   "source": [
    "input_string = \"prospect\"\n",
    "\n",
    "print(\"\".join([input_string[0:input_string.find('p')+1],input_string.split('p',1)[1].replace('p','$')]))\n",
    "\n",
    "\n",
    "#below Code is for Validation\n",
    "input_string = \"jkldprospecppt\"\n",
    "print(\"\".join([input_string[0:input_string.find('p')+1],input_string.split('p',1)[1].replace('p','$')]))"
   ]
  },
  {
   "cell_type": "markdown",
   "metadata": {},
   "source": [
    "Q2. Write a Python program to get the single string from the two given\n",
    "strings, and separated by the space and swap the first two characters of\n",
    "each string?\n",
    "\n",
    "    Sample String : 'abc', 'xyz'.\n",
    "    Expected Result: 'xyc abz'\n",
    "    \n",
    "    \n",
    "    "
   ]
  },
  {
   "cell_type": "code",
   "execution_count": 9,
   "metadata": {},
   "outputs": [
    {
     "name": "stdout",
     "output_type": "stream",
     "text": [
      "xyc abz\n"
     ]
    }
   ],
   "source": [
    "string1 = 'abc'\n",
    "string2 = 'xyz'\n",
    "\n",
    "finalString = string2.replace(string2[2],string1[2],1) + \" \" + string1.replace(string1[2],string2[2],1)\n",
    "\n",
    "print(finalString)"
   ]
  },
  {
   "cell_type": "markdown",
   "metadata": {},
   "source": [
    "Q3. Write the Python program to add 'ing' at the end of the given string\n",
    "(length of the string should be at least 3). If given string already ends\n",
    "with 'ing,' then add 'ly' instead. If string length of the given string is less\n",
    "than 3, leave it unchanged?\n",
    "\n",
    "\n",
    "    Sample string: ' abc '\n",
    "    Expected result: ' abcing '\n",
    "    Sample string: ' string '\n",
    "    Expected result: ' stringly '\n"
   ]
  },
  {
   "cell_type": "code",
   "execution_count": 19,
   "metadata": {},
   "outputs": [
    {
     "data": {
      "text/plain": [
       "['abcing', 'stringly', 'l', 'll', 'lllling']"
      ]
     },
     "execution_count": 19,
     "metadata": {},
     "output_type": "execute_result"
    }
   ],
   "source": [
    "\n",
    "\n",
    "list_of_sample_string = ['abc', 'string', 'l', 'll', 'llll']\n",
    "\n",
    "def Q3_transform(s):\n",
    "    if len(s) < 3:\n",
    "        return s\n",
    "    else:\n",
    "        if s.endswith(\"ing\"):\n",
    "            return s + \"ly\"\n",
    "        else :\n",
    "            return s + \"ing\"\n",
    "\n",
    "[Q3_transform(each_string) for each_string in list_of_sample_string]\n",
    "\n"
   ]
  },
  {
   "cell_type": "markdown",
   "metadata": {},
   "source": [
    "Q4. Write the Python program to find the first appearance of the\n",
    "substring 'not' and 'poor' from the given string, if 'not' follows the 'poor',\n",
    "replace the whole 'not'...' poor' substring with 'good'.Return the resulting\n",
    "string.\n",
    "\n",
    "    Sample string: 'The lyrics are not that poor!'\n",
    "    'The lyrics are poor!'\n",
    "    Expected Result: 'The lyrics are good!'\n",
    "    'The lyrics are poor!'"
   ]
  },
  {
   "cell_type": "code",
   "execution_count": 20,
   "metadata": {},
   "outputs": [
    {
     "data": {
      "text/plain": [
       "['The lyrics are good!', 'The lyrics are poor!', 'l', 'll', 'llll']"
      ]
     },
     "execution_count": 20,
     "metadata": {},
     "output_type": "execute_result"
    }
   ],
   "source": [
    "import re\n",
    "\n",
    "list_of_sample_string = ['The lyrics are not that poor!', 'The lyrics are poor!', 'l', 'll', 'llll']\n",
    "\n",
    "\n",
    "def Q4_transform(s):\n",
    "    return re.sub(\"not.*poor\", \"good\" ,s)\n",
    "    \n",
    "\n",
    "[Q4_transform(each_string) for each_string in list_of_sample_string]"
   ]
  },
  {
   "cell_type": "markdown",
   "metadata": {},
   "source": [
    "Q5. Write the Python program to remove the characters which have odd\n",
    "index values of a given string."
   ]
  },
  {
   "cell_type": "code",
   "execution_count": 32,
   "metadata": {},
   "outputs": [
    {
     "name": "stdout",
     "output_type": "stream",
     "text": [
      "Final string --> stmsdaaa as ajoigmy,miyrartmaaa mSat,Sat Hnii \n"
     ]
    }
   ],
   "source": [
    "sample_string = 'Asatomasadgamaya, tamso ma jyotirgamaya, mrityormamritamgamaya, Om Shanti, Shanti SHantihi!'\n",
    "\n",
    "final_string = \"\"\n",
    "for i in range(len(sample_string)):    \n",
    "    if i % 2 != 0:\n",
    "        #print(f\" i is {i} and character is {sample_string[i]}\" )\n",
    "        final_string = final_string + sample_string[i]\n",
    "\n",
    "print(f\"Final string --> {final_string} \" )\n"
   ]
  },
  {
   "cell_type": "markdown",
   "metadata": {},
   "source": [
    "Q6. Write the python program to print the following floating numbers up\n",
    "to 2 decimal places?"
   ]
  },
  {
   "cell_type": "code",
   "execution_count": 41,
   "metadata": {},
   "outputs": [
    {
     "name": "stdout",
     "output_type": "stream",
     "text": [
      "9.12\n",
      "9.12\n"
     ]
    }
   ],
   "source": [
    "my_floating_number = 9.123456\n",
    "\n",
    "\n",
    "print(format(my_floating_number,'.2f'))\n",
    "print(\"{0:.2f}\".format(my_floating_number))"
   ]
  },
  {
   "cell_type": "markdown",
   "metadata": {},
   "source": [
    "Q7. Write the Python program to format a number with a percentage?"
   ]
  },
  {
   "cell_type": "code",
   "execution_count": 43,
   "metadata": {},
   "outputs": [
    {
     "name": "stdout",
     "output_type": "stream",
     "text": [
      "Formatted Number with percentage: 72.26%\n"
     ]
    }
   ],
   "source": [
    "my_number = 0.7226\n",
    "\n",
    "print(\"Formatted Number with percentage: \"+\"{:.2%}\".format(my_number))"
   ]
  },
  {
   "cell_type": "markdown",
   "metadata": {},
   "source": [
    "Q8. Write the Python program to count occurrences of a substring in a\n",
    "String?"
   ]
  },
  {
   "cell_type": "code",
   "execution_count": 44,
   "metadata": {},
   "outputs": [
    {
     "data": {
      "text/plain": [
       "3"
      ]
     },
     "execution_count": 44,
     "metadata": {},
     "output_type": "execute_result"
    }
   ],
   "source": [
    "\"happy and you happy and you happy\".count('happy')"
   ]
  },
  {
   "cell_type": "markdown",
   "metadata": {},
   "source": [
    "Q9. Write the Python program to count repeated characters in a string.\n",
    "\n",
    "    Sample string: ' thequickbrownjumpsoverthelazydog '\n",
    "    \n",
    "    Expected output:\n",
    "    o 3\n",
    "    e 3\n",
    "    u 2\n",
    "    h 2\n",
    "    r 2\n",
    "    t 2"
   ]
  },
  {
   "cell_type": "code",
   "execution_count": 60,
   "metadata": {},
   "outputs": [
    {
     "name": "stdout",
     "output_type": "stream",
     "text": [
      "t 2\n",
      "h 2\n",
      "e 3\n",
      "u 2\n",
      "r 2\n",
      "o 3\n"
     ]
    }
   ],
   "source": [
    "sample_string= 'thequickbrownjumpsoverthelazydog'\n",
    "i = 0\n",
    "while len(sample_string) > 0:\n",
    "    #print(f'{sample_string[i]} --> {sample_string}')\n",
    "    if sample_string.count(sample_string[i]) > 1:\n",
    "        print(f'{sample_string[i]} {sample_string.count(sample_string[i])}')\n",
    "   \n",
    "    sample_string = sample_string.replace(sample_string[i],\"\")\n",
    "    \n"
   ]
  },
  {
   "cell_type": "markdown",
   "metadata": {},
   "source": [
    "Q10. Write the Python program to print the square and cube symbol in\n",
    "the area of a rectangle and volume of a cylinder?\n",
    "\n",
    "    Sample outputThe area of the rectangle is 1256.66cm2\n",
    "    The volume of the cylinder is 1254.725cm3\n"
   ]
  },
  {
   "cell_type": "code",
   "execution_count": 61,
   "metadata": {},
   "outputs": [
    {
     "name": "stdout",
     "output_type": "stream",
     "text": [
      "The area of the rectangle is 1256.67cm²\n",
      "The volume of the cylinder is 1254.726cm³\n"
     ]
    }
   ],
   "source": [
    "\n",
    "print(\"The area of the rectangle is {0:.{1}f}cm\\u00b2\".format(1256.6666, 2))\n",
    "\n",
    "print(\"The volume of the cylinder is {0:.{1}f}cm\\u00b3\".format(1254.72555, 3))\n"
   ]
  },
  {
   "cell_type": "markdown",
   "metadata": {},
   "source": [
    "Q11. Write the Python program to check if a string contains all letters of\n",
    "the alphabet?"
   ]
  },
  {
   "cell_type": "code",
   "execution_count": 4,
   "metadata": {},
   "outputs": [
    {
     "name": "stdout",
     "output_type": "stream",
     "text": [
      "Check whether this sentence \"the quick brown fox jumps over the lazy dog\" is pangram --> True\n",
      "Check whether this sentence \"Pankaj\" is pangram --> False\n"
     ]
    }
   ],
   "source": [
    "def is_this_sentence_pangram(input_string):\n",
    "    str_all_letters = 'abcdefghijklmnopqrstuvwxyz'\n",
    "    for eachCharacter in str_all_letters:\n",
    "        if eachCharacter not in input_string:\n",
    "            return False\n",
    "    \n",
    "    return True\n",
    "\n",
    "input_letters = 'the quick brown fox jumps over the lazy dog'\n",
    "\n",
    "print(f'Check whether this sentence \"{input_letters}\" is pangram --> {is_this_sentence_pangram(input_letters)}')\n",
    "\n",
    "input_letters = \"Pankaj\"\n",
    "print(f'Check whether this sentence \"{input_letters}\" is pangram --> {is_this_sentence_pangram(input_letters)}')\n"
   ]
  },
  {
   "cell_type": "markdown",
   "metadata": {},
   "source": [
    "Q12. Write the Python program to find the second most repeated word\n",
    "in a given string?"
   ]
  },
  {
   "cell_type": "code",
   "execution_count": 43,
   "metadata": {},
   "outputs": [
    {
     "name": "stdout",
     "output_type": "stream",
     "text": [
      "Following is the input sentence --> \n",
      "Consider this neural network. Previously we said the sequence of steps that we need in order to compute the output of a hypotheses is these equations given on the left where we compute the activation values of the three hidden uses and then we use those to compute the final output of our hypotheses h of x. Now, I'm going to define a few extra terms. \n",
      "\n",
      "The second most repeated word is 'of' and it is repeated 5 time(s)\n"
     ]
    }
   ],
   "source": [
    "\n",
    "def get_list_of_word_count_as_tuple(lst):\n",
    "    if type(lst).__name__ != \"list\":\n",
    "        print(\"Invalid Input, try list like ['Hello','how','are','you','my','friend'] \")\n",
    "        raise Exception(\"Invalid Input. First argument should be a defined function and second argument should be a list\")\n",
    "\n",
    "    list_of_word_count_tuple = []\n",
    "    \n",
    "    for w in lst:\n",
    "        word_exist_in_tuple = False\n",
    "        for i in range(len(list_of_word_count_tuple)):\n",
    "            if w in list_of_word_count_tuple[i]:\n",
    "                word_exist_in_tuple = True\n",
    "                break\n",
    "                \n",
    "        \n",
    "        if word_exist_in_tuple is False:\n",
    "            list_of_word_count_tuple.append((w,lst.count(w)))\n",
    "\n",
    "    return list_of_word_count_tuple\n",
    "\n",
    "\n",
    "sentence = \"Consider this neural network. Previously we said the sequence of steps that we need in order to compute the output of a hypotheses is these equations given on the left where we compute the activation values of the three hidden uses and then we use those to compute the final output of our hypotheses h of x. Now, I'm going to define a few extra terms. \"\n",
    "#sentence = \"A A A A A B A D A G J J J G D D D G G\"\n",
    "\n",
    "arrs = sentence.lower().replace(\".\",\"\").split(\" \")\n",
    "list_of_word_count_as_tuple = get_list_of_word_count_as_tuple(arrs)\n",
    "\n",
    "#Sort the array w.r.t count\n",
    "list_of_word_count_as_tuple.sort(key=lambda word_count_tuple: word_count_tuple[1])\n",
    "\n",
    "print(\"Following is the input sentence --> \\n\" + sentence)\n",
    "print(f\"\\nThe second most repeated word is '{list_of_word_count_as_tuple[-2][0]}' and it is repeated {list_of_word_count_as_tuple[-2][1]} time(s)\")\n"
   ]
  },
  {
   "cell_type": "markdown",
   "metadata": {},
   "source": [
    "Q13. Write the Python program to find the minimum window in the given\n",
    "string, which will contains all the characters of another given\n",
    "strings?\n",
    "\n",
    "    Example 1\n",
    "    Input : string1 = \" PRWSOERIUSFK \"\n",
    "    string2 = \" OSU \"\n",
    "    Output: Minimum window is \"OERIUS\""
   ]
  },
  {
   "cell_type": "code",
   "execution_count": 4,
   "metadata": {},
   "outputs": [
    {
     "name": "stdout",
     "output_type": "stream",
     "text": [
      "In string1 --> OPRWSOERIUSFKU\n",
      "the smallest window containing string2--> OSU\n",
      "is --> OERIUS\n"
     ]
    }
   ],
   "source": [
    "\n",
    "\n",
    "def get_window_of_string2_inside_string1(str1,str2):\n",
    "    \n",
    "    \n",
    "    positions = []\n",
    "    i=0\n",
    "    len_of_str2 = len(str2)\n",
    "\n",
    "    \n",
    "    #First Check if all characters of str2 is present on str1\n",
    "    \n",
    "    for s in str2:\n",
    "        if not s in str1:\n",
    "            return f\"One of the Character in --> {s} is not present in string1 --> {str1}\"\n",
    "\n",
    "    #Get all positions of all search window characters in a list\n",
    "\n",
    "    while i < len(str1):\n",
    "\n",
    "        for j in range(len(str2)):        \n",
    "            if str1[i] == str2[j]:\n",
    "                positions.append(i)\n",
    "                #print(f\"{i} --> {str1[i]}\")\n",
    "\n",
    "        i = i + 1\n",
    "\n",
    "    #print(positions)\n",
    "    \n",
    "    window = str1[min(positions):max(positions)+1]\n",
    "    #print(f\"Max Window size is {window}\")\n",
    "    \n",
    "    #find min from window\n",
    "    \n",
    "    i = 0\n",
    "    j = -1\n",
    "    \n",
    "    prev_window = window\n",
    "    left_flag = True\n",
    "\n",
    "    while left_flag:\n",
    "        #first decrease window from left\n",
    "        window = str1[positions[i]:positions[j]+1]\n",
    "        #print(\"window value --> \" + window)\n",
    "        \n",
    "        for s in str2:\n",
    "            if not s in window:                \n",
    "                left_flag = False\n",
    "                i = i - 1\n",
    "                break\n",
    "            \n",
    "        if left_flag == True:\n",
    "            prev_window = window\n",
    "            i = i + 1\n",
    "    \n",
    "    right_flag = True\n",
    "    while right_flag:\n",
    "\n",
    "        #Then decrease window from right\n",
    "        window = str1[positions[i]:positions[j]+1]\n",
    "        #print(\"window value --> \" + window)\n",
    "        for s in str2:\n",
    "            if not s in window:                \n",
    "                right_flag = False\n",
    "                j = j + 1\n",
    "                break\n",
    "        \n",
    "        if right_flag == True:\n",
    "            prev_window = window\n",
    "            j = j - 1\n",
    "            \n",
    "            \n",
    "            \n",
    "    return prev_window\n",
    "\n",
    "\n",
    "\n",
    "string1 = \"OPRWSOERIUSFKU\"\n",
    "\n",
    "string2 = \"OSU\"\n",
    "\n",
    "\n",
    "print(f\"In string1 --> {string1}\\nthe smallest window containing string2--> {string2}\\nis --> {get_window_of_string2_inside_string1(string1,string2)}\")\n",
    "\n",
    "\n"
   ]
  },
  {
   "cell_type": "markdown",
   "metadata": {},
   "source": [
    "Q14. Write the Python program to count number of substrings from a\n",
    "given string of lowercase alphabets with exactly k distinct (given)\n",
    "characters?\n",
    "\n",
    "    Input a string (lowercase alphabets): wolf\n",
    "    Input k: 4\n",
    "    Number of substrings with exactly 4 distinct characters: 1"
   ]
  },
  {
   "cell_type": "code",
   "execution_count": 13,
   "metadata": {},
   "outputs": [
    {
     "name": "stdout",
     "output_type": "stream",
     "text": [
      "['wolf']\n",
      "The distinct 4 characters in wolf is 1\n"
     ]
    }
   ],
   "source": [
    "\n",
    "def get_distinct_chars(input_string,k):\n",
    "    if input_string is None :\n",
    "        raise exception(\"InvalidInput: input_string can not be empty\")\n",
    "    if k is None :\n",
    "        raise exception(\"InvalidInput: k can not be empty\")\n",
    "        \n",
    "    \n",
    "    input_string = input_string.lower()\n",
    "    print([input_string[i:i+k] for i in range(len(input_string)-k+1)])\n",
    "    return len([input_string[i:i+k] for i in range(len(input_string)-k+1)])\n",
    "\n",
    "\n",
    "string1 = \"wolf\"\n",
    "k = 4\n",
    "\n",
    "print(f\"The distinct {k} characters in {string1} is {get_distinct_chars(string1,k)}\")\n"
   ]
  },
  {
   "cell_type": "markdown",
   "metadata": {},
   "source": [
    "Q15. Write the Python program to count number of substrings with same\n",
    "first and last characters of the given string?\n",
    "\n",
    "    Input a string: abcd\n",
    "    4\n"
   ]
  },
  {
   "cell_type": "code",
   "execution_count": 115,
   "metadata": {},
   "outputs": [
    {
     "name": "stdout",
     "output_type": "stream",
     "text": [
      "Count of number of substrings with same first and last character is 8 and the palindrome list is ['a', 'abcda', 'b', 'c', 'cdac', 'd', 'a', 'c'])\n"
     ]
    }
   ],
   "source": [
    "\n",
    "def get_all_possible_palindrome(input_string):\n",
    "    if input_string is None :\n",
    "        raise exception(\"InvalidInput: input_string can not be empty\")  \n",
    "    \n",
    "    palindrome_list = []\n",
    "    length_of_input_string = len(input_string)\n",
    "    \n",
    "    for i in range(length_of_input_string):\n",
    "        for j in range(i, length_of_input_string):\n",
    "            combi_str = input_string[i:j+1]\n",
    "            #print(combi_str)\n",
    "    \n",
    "            if combi_str[0] == combi_str[-1]:\n",
    "                palindrome_list.append(combi_str)\n",
    "\n",
    "        \n",
    "    #print(palindrome_list)\n",
    "    return (len(palindrome_list), palindrome_list)\n",
    "\n",
    "\n",
    "input_string = 'abcdac'\n",
    "\n",
    "\n",
    "count, palidromelists = get_all_possible_palindrome(input_string)\n",
    "\n",
    "print(f'Count of number of substrings with same first and last character is {count} and the palindrome list is {palidromelists})')"
   ]
  },
  {
   "cell_type": "markdown",
   "metadata": {},
   "source": [
    "## Great Job!"
   ]
  }
 ],
 "metadata": {
  "kernelspec": {
   "display_name": "Python 3",
   "language": "python",
   "name": "python3"
  },
  "language_info": {
   "codemirror_mode": {
    "name": "ipython",
    "version": 3
   },
   "file_extension": ".py",
   "mimetype": "text/x-python",
   "name": "python",
   "nbconvert_exporter": "python",
   "pygments_lexer": "ipython3",
   "version": "3.6.10"
  }
 },
 "nbformat": 4,
 "nbformat_minor": 4
}
